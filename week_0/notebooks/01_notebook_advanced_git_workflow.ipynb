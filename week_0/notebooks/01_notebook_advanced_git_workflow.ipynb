{
 "cells": [
  {
   "cell_type": "markdown",
   "id": "6e8287c6",
   "metadata": {},
   "source": [
    "# **AI TECH INSTITUTE** · *Intermediate AI & Data Science*\n",
    "### Week 00 · Notebook 02 — Git Workflow (Local Environment)\n",
    "**Instructor:** Amir Charkhi  |  **Goal:** Master the daily Git workflow you’ll use for the rest of the course.\n",
    "\n",
    "> Format: short theory → quick terminal practice → small team simulations → mini‑challenges.\n"
   ]
  },
  {
   "cell_type": "markdown",
   "id": "4a35e8bb",
   "metadata": {},
   "source": [
    "---\n",
    "## Using this notebook\n",
    "- Run code cells when they appear; most commands will be **terminal commands** you run in your local shell.\n",
    "- Copy/paste carefully — replace placeholders like `<your-branch>`.\n",
    "- Try the exercise **before** opening the solution blocks.\n"
   ]
  },
  {
   "cell_type": "markdown",
   "id": "ade0238f-3162-40fa-8a96-c0deed9a3f79",
   "metadata": {},
   "source": [
    "# More Advanced Concepts"
   ]
  },
  {
   "cell_type": "markdown",
   "id": "da6e4326",
   "metadata": {},
   "source": [
    "## 4. Branching model we use\n",
    "- Work on **`dev`** (Instructor develops there; students generally stay on `main` unless told otherwise).\n",
    "- Create **feature branches** from the tracking branch you’re using for the task.\n",
    "- Keep commit messages short and meaningful.\n",
    "\n",
    "**Branch commands you’ll use**:\n",
    "- `git switch -c <branch>` (create & switch) or `git checkout -b <branch>`\n",
    "- `git switch <branch>` (switch)"
   ]
  },
  {
   "cell_type": "markdown",
   "id": "d0037003",
   "metadata": {},
   "source": [
    "**Exercise 3 — Create & switch (easy)**  \n",
    "Create a branch named `week00-yourname` and list branches.\n"
   ]
  },
  {
   "cell_type": "markdown",
   "id": "5b4f40a1",
   "metadata": {},
   "source": [
    "<details>\n",
    "<summary><b>Solution</b></summary>\n",
    "\n",
    "```bash\n",
    "git switch -c week00-yourname\n",
    "git branch\n",
    "```\n",
    "</details>"
   ]
  },
  {
   "cell_type": "markdown",
   "id": "582c78e3",
   "metadata": {},
   "source": [
    "## 5. Stage, commit, push\n",
    "- Stage specific files: `git add <path>` or everything: `git add .`\n",
    "- Commit with a clear message: `git commit -m \"Add my_info.py\"`\n",
    "- Push to remote: `git push -u origin <branch>` (first time), later just `git push`\n",
    "\n"
   ]
  },
  {
   "cell_type": "markdown",
   "id": "741c1c71",
   "metadata": {},
   "source": [
    "**Exercise 4 — First commit (easy)**  \n",
    "Create a file `my_info.py`, add a print, stage, commit, and push your branch.\n"
   ]
  },
  {
   "cell_type": "markdown",
   "id": "5265e60a",
   "metadata": {},
   "source": [
    "<details>\n",
    "<summary><b>Solution</b></summary>\n",
    "\n",
    "```bash\n",
    "printf 'print(\"Hello from <your name>\")\\n' > my_info.py\n",
    "git add my_info.py\n",
    "git commit -m \"Add my_info.py\"\n",
    "git push -u origin week00-yourname\n",
    "```\n",
    "</details>"
   ]
  },
  {
   "cell_type": "markdown",
   "id": "dd91af14",
   "metadata": {},
   "source": [
    "## 6. Update & sync: pull, fetch, merge, rebase\n",
    "- `git pull` = `fetch` + `merge` (default)\n",
    "- `git fetch` (just download remote refs, no merge)\n",
    "- `git merge <branch>` (combine histories)\n",
    "- `git rebase <branch>` (replay commits on top — keeps history linear; **use with care**)"
   ]
  },
  {
   "cell_type": "markdown",
   "id": "b93cc6d3",
   "metadata": {},
   "source": [
    "**Exercise 5 — Sync with main (medium)**  \n",
    "Make sure your branch is up to date with `origin/main` without losing your work.\n"
   ]
  },
  {
   "cell_type": "markdown",
   "id": "127850d0",
   "metadata": {},
   "source": [
    "<details>\n",
    "<summary><b>Solution</b></summary>\n",
    "\n",
    "```bash\n",
    "git switch week00-yourname\n",
    "git fetch origin\n",
    "git merge origin/main   # or: git rebase origin/main\n",
    "```\n",
    "</details>"
   ]
  },
  {
   "cell_type": "markdown",
   "id": "86ac1848",
   "metadata": {},
   "source": [
    "## 7. `.gitignore` essentials\n",
    "Ignore files you don’t want in version control (e.g., `__pycache__/`, `.DS_Store`, `.env`)."
   ]
  },
  {
   "cell_type": "markdown",
   "id": "ddf3b8ab",
   "metadata": {},
   "source": [
    "**Exercise 6 — Create a Python-friendly `.gitignore` (easy)**  \n",
    "Add common Python ignores and commit it.\n"
   ]
  },
  {
   "cell_type": "markdown",
   "id": "22f25302",
   "metadata": {},
   "source": [
    "<details>\n",
    "<summary><b>Solution</b></summary>\n",
    "\n",
    "```bash\n",
    "printf '__pycache__/\\n.ipynb_checkpoints/\\n*.pyc\\n.DS_Store\\n.env\\n' > .gitignore\n",
    "git add .gitignore\n",
    "git commit -m \"Add .gitignore\"\n",
    "git push\n",
    "```\n",
    "</details>"
   ]
  },
  {
   "cell_type": "markdown",
   "id": "f8c85c5e",
   "metadata": {},
   "source": [
    "## 8. History & diffs\n",
    "- `git log --oneline --graph --decorate --all`\n",
    "- `git diff` (unstaged changes), `git diff --staged` (staged changes)"
   ]
  },
  {
   "cell_type": "markdown",
   "id": "afdbd6b9",
   "metadata": {},
   "source": [
    "**Exercise 7 — Inspect history (easy)**  \n",
    "Show a compact decorated graph of your repo.\n"
   ]
  },
  {
   "cell_type": "markdown",
   "id": "17f39466",
   "metadata": {},
   "source": [
    "<details>\n",
    "<summary><b>Solution</b></summary>\n",
    "\n",
    "```bash\n",
    "git log --oneline --graph --decorate --all\n",
    "```\n",
    "</details>"
   ]
  },
  {
   "cell_type": "markdown",
   "id": "64f3255a",
   "metadata": {},
   "source": [
    "## 9. Merge conflicts (don’t panic)\n",
    "Conflicts happen when two commits change the same lines.\n",
    "\n",
    "**Resolve steps**\n",
    "1. Read the conflict markers `<<<<<<<`, `=======`, `>>>>>>>`\n",
    "2. Decide the correct final content (yours, theirs, or mix)\n",
    "3. Stage the resolved file: `git add <file>`\n",
    "4. Complete merge: `git commit` (or `git rebase --continue`)"
   ]
  },
  {
   "cell_type": "markdown",
   "id": "a54870cb",
   "metadata": {},
   "source": [
    "**Exercise 8 — Simulate a merge conflict (medium)**  \n",
    "1) On `week00-yourname`, change line 1 of `README.md`. Commit.  \n",
    "2) On `main`, also change line 1 (in a different clone or by switching temporarily). Commit & push.  \n",
    "3) Merge `origin/main` into your branch and resolve.\n"
   ]
  },
  {
   "cell_type": "markdown",
   "id": "b93813ac",
   "metadata": {},
   "source": [
    "<details>\n",
    "<summary><b>Solution</b></summary>\n",
    "\n",
    "```bash\n",
    "# on your feature branch\n",
    "git switch week00-yourname\n",
    "printf 'My change on line 1\\n' > README.md\n",
    "git add README.md && git commit -m \"Change line 1\"\n",
    "\n",
    "# switch to main (or in another clone)\n",
    "git switch main\n",
    "printf 'Different change on line 1\\n' > README.md\n",
    "git add README.md && git commit -m \"Main change line 1\"\n",
    "git push\n",
    "\n",
    "# back to feature branch\n",
    "git switch week00-yourname\n",
    "git fetch origin\n",
    "git merge origin/main\n",
    "# resolve conflicts in editor, then:\n",
    "git add README.md\n",
    "git commit\n",
    "```\n",
    "</details>"
   ]
  },
  {
   "cell_type": "markdown",
   "id": "9f70e311",
   "metadata": {},
   "source": [
    "## 10. Tags & releases\n",
    "Mark stable points with lightweight or annotated tags.\n",
    "\n",
    "- Create: `git tag -a v0.1 -m \"Week-00-release\"`\n",
    "- Push tags: `git push --tags`"
   ]
  },
  {
   "cell_type": "markdown",
   "id": "de98963a",
   "metadata": {},
   "source": [
    "**Exercise 9 — Tag a release (easy)**  \n",
    "Create `Week-00-release` on `main` and push it.\n"
   ]
  },
  {
   "cell_type": "markdown",
   "id": "9b7b1b10",
   "metadata": {},
   "source": [
    "<details>\n",
    "<summary><b>Solution</b></summary>\n",
    "\n",
    "```bash\n",
    "git switch main\n",
    "git pull\n",
    "git tag -a Week-00-release -m \"Week 00 content ready\"\n",
    "git push --tags\n",
    "```\n",
    "</details>"
   ]
  },
  {
   "cell_type": "markdown",
   "id": "aba28e65",
   "metadata": {},
   "source": [
    "## 11. Pull Request (PR) workflow (local prep)\n",
    "- Keep branches small & focused.\n",
    "- Write clear PR titles & descriptions.\n",
    "- Link issues when relevant.\n",
    "- After PR merge: **sync** and delete local branch if done.\n"
   ]
  },
  {
   "cell_type": "markdown",
   "id": "b6ffc3bb",
   "metadata": {},
   "source": [
    "**Exercise 10 — Prep a PR (medium)**  \n",
    "Push your branch if not already, then open a PR on GitHub comparing your branch to `main` with a clear title & checklist.\n"
   ]
  },
  {
   "cell_type": "markdown",
   "id": "4cecfa82",
   "metadata": {},
   "source": [
    "<details>\n",
    "<summary><b>Solution</b></summary>\n",
    "\n",
    "```bash\n",
    "git push -u origin week00-yourname\n",
    "# Then, on GitHub: open PR to main with good description\n",
    "```\n",
    "</details>"
   ]
  },
  {
   "cell_type": "markdown",
   "id": "8f88bba8",
   "metadata": {},
   "source": [
    "## 12. Mini‑Challenges\n",
    "- **M1 (easy):** Amend the last commit message (typo fix) without creating a new commit.\n",
    "- **M2 (medium):** Undo an accidental staging (`git restore --staged <file>`).\n",
    "- **M3 (hard):** Recover a deleted file from history (use `git log -- <file>` + `git checkout <hash> -- <file>`)."
   ]
  },
  {
   "cell_type": "markdown",
   "id": "0f834bfd",
   "metadata": {},
   "source": [
    "<details>\n",
    "<summary><b>Solution</b></summary>\n",
    "\n",
    "```bash\n",
    "# M1\n",
    "git commit --amend -m \"Corrected message\"\n",
    "# M2\n",
    "git restore --staged <file>\n",
    "# M3\n",
    "git log -- <file>\n",
    "git checkout <some-hash> -- <file>\n",
    "```\n",
    "</details>"
   ]
  },
  {
   "cell_type": "markdown",
   "id": "b1a2e9d0",
   "metadata": {},
   "source": [
    "## Wrap‑Up\n",
    "You can now clone, branch, commit, push/pull, resolve conflicts, tag releases, and prep PRs — the full cycle you’ll use each week.\n"
   ]
  }
 ],
 "metadata": {
  "kernelspec": {
   "display_name": "Python 3 (ipykernel)",
   "language": "python",
   "name": "python3"
  },
  "language_info": {
   "codemirror_mode": {
    "name": "ipython",
    "version": 3
   },
   "file_extension": ".py",
   "mimetype": "text/x-python",
   "name": "python",
   "nbconvert_exporter": "python",
   "pygments_lexer": "ipython3",
   "version": "3.13.1"
  },
  "toc": {
   "base_numbering": 1,
   "nav_menu": {},
   "number_sections": false,
   "sideBar": true,
   "skip_h1_title": false,
   "title_cell": "Table of Contents",
   "title_sidebar": "Contents",
   "toc_cell": false,
   "toc_position": {},
   "toc_section_display": true,
   "toc_window_display": true
  }
 },
 "nbformat": 4,
 "nbformat_minor": 5
}
