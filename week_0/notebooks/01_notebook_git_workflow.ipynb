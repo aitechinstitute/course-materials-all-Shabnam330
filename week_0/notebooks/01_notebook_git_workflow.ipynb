{
 "cells": [
  {
   "cell_type": "markdown",
   "id": "6e8287c6",
   "metadata": {},
   "source": [
    "# **AI TECH INSTITUTE** · *Intermediate AI & Data Science*\n",
    "### Week 00 · Notebook 01 — Git Workflow (Local Environment)\n",
    "**Instructor:** Amir Charkhi  |  **Goal:** Master the daily Git workflow you’ll use for the rest of the course.\n",
    "\n",
    "> Format: short theory → quick terminal practice → small team simulations → mini‑challenges.\n"
   ]
  },
  {
   "cell_type": "markdown",
   "id": "4a35e8bb",
   "metadata": {},
   "source": [
    "---\n",
    "## Using this notebook\n",
    "- Run code cells when they appear; most commands will be **terminal commands** you run in your local shell.\n",
    "- Copy/paste carefully — replace placeholders like `<your-branch>`.\n",
    "- Try the exercise **before** opening the solution blocks.\n"
   ]
  },
  {
   "cell_type": "markdown",
   "id": "e34be3dc",
   "metadata": {},
   "source": [
    "## 1. Git mental model\n",
    "**Key objects**: *working directory* → *staging area (index)* → *commit history*  \n",
    "**Remotes**: usually `origin` (GitHub).  \n",
    "**Branches**: movable labels pointing to commits.\n",
    "\n",
    "**Daily loop**\n",
    "1. `git pull` (sync)\n",
    "2. Edit files\n",
    "3. `git add` (stage)\n",
    "4. `git commit -m \"...\"` (snapshot)\n",
    "5. `git push` (share)\n"
   ]
  },
  {
   "cell_type": "markdown",
   "id": "0d803453",
   "metadata": {},
   "source": [
    "## 2. One-time setup & identity\n",
    "Set your name & email so commits are attributed correctly.\n"
   ]
  },
  {
   "cell_type": "markdown",
   "id": "261db9e3",
   "metadata": {},
   "source": [
    "**Exercise 1 — Set your identity (easy)**  \n",
    "Run these in your **terminal** (choose global or local scope).\n"
   ]
  },
  {
   "cell_type": "markdown",
   "id": "6b9b9c12",
   "metadata": {},
   "source": [
    "<details>\n",
    "<summary><b>Solution</b></summary>\n",
    "\n",
    "```bash\n",
    "git config --global user.name \"Your Name\"\n",
    "git config --global user.email \"you@example.com\"\n",
    "git config --list --show-origin | grep user.\n",
    "```\n",
    "</details>"
   ]
  },
  {
   "cell_type": "markdown",
   "id": "c6445f6b",
   "metadata": {},
   "source": [
    "## 3. Start a project: init vs clone\n",
    "- **New project**: `git init` inside a new folder\n",
    "- **Existing project**: `git clone <url>`\n",
    "\n",
    "> For this course you will mostly **clone** the class repo and create feature branches locally.\n"
   ]
  },
  {
   "cell_type": "markdown",
   "id": "24d80b65",
   "metadata": {},
   "source": [
    "**Exercise 2 — Clone the course repo (easy)**  \n",
    "Replace the URL with the real one for your environment.\n"
   ]
  },
  {
   "cell_type": "markdown",
   "id": "365fdcb5",
   "metadata": {},
   "source": [
    "<details>\n",
    "<summary><b>Solution</b></summary>\n",
    "\n",
    "```bash\n",
    "git clone <repo-url>\n",
    "cd <repo-folder>\n",
    "git remote -v\n",
    "```\n",
    "</details>"
   ]
  }
 ],
 "metadata": {
  "kernelspec": {
   "display_name": "Python 3 (ipykernel)",
   "language": "python",
   "name": "python3"
  },
  "language_info": {
   "codemirror_mode": {
    "name": "ipython",
    "version": 3
   },
   "file_extension": ".py",
   "mimetype": "text/x-python",
   "name": "python",
   "nbconvert_exporter": "python",
   "pygments_lexer": "ipython3",
   "version": "3.13.1"
  },
  "toc": {
   "base_numbering": 1,
   "nav_menu": {},
   "number_sections": false,
   "sideBar": true,
   "skip_h1_title": false,
   "title_cell": "Table of Contents",
   "title_sidebar": "Contents",
   "toc_cell": false,
   "toc_position": {},
   "toc_section_display": true,
   "toc_window_display": true
  }
 },
 "nbformat": 4,
 "nbformat_minor": 5
}
