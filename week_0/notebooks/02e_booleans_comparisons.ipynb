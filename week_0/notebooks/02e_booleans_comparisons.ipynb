{
 "cells": [
  {
   "cell_type": "markdown",
   "id": "416387dd",
   "metadata": {},
   "source": [
    "# Week 00 Deep Dive — Booleans & Comparisons"
   ]
  },
  {
   "cell_type": "markdown",
   "id": "c7e2b54a",
   "metadata": {},
   "source": [
    "Truthiness, logical operators, and common guard clauses."
   ]
  },
  {
   "cell_type": "markdown",
   "id": "477c4e5c",
   "metadata": {},
   "source": [
    "## 1. Truthiness"
   ]
  },
  {
   "cell_type": "code",
   "execution_count": null,
   "id": "58ecd923",
   "metadata": {},
   "outputs": [],
   "source": [
    "for v in [0,1,[],[1], \"\", \"hi\", None]:\n",
    "    if v:\n",
    "        print(v, \"is truthy\")\n",
    "    else:\n",
    "        print(v, \"is falsy\")"
   ]
  },
  {
   "cell_type": "markdown",
   "id": "3cf7f6c7",
   "metadata": {},
   "source": [
    "### Exercise E1 — Gatekeeper (easy)\n",
    "If password is `'opensesame'` print ✅ else ❌"
   ]
  },
  {
   "cell_type": "code",
   "execution_count": null,
   "id": "c9465d94",
   "metadata": {},
   "outputs": [],
   "source": [
    "# Your turn\n"
   ]
  },
  {
   "cell_type": "markdown",
   "id": "1add8661",
   "metadata": {},
   "source": [
    "<details>\n",
    "<summary><b>Solution</b></summary>\n",
    "\n",
    "```python\n",
    "pwd=\"opensesame\"\n",
    "print(\"✅\" if pwd==\"opensesame\" else \"❌\")\n",
    "```\n",
    "</details>"
   ]
  },
  {
   "cell_type": "markdown",
   "id": "eec8c3de",
   "metadata": {},
   "source": [
    "### Exercise E2 — Range check (medium)\n",
    "Ask for a score 0..100, classify A/B/C/D/F."
   ]
  },
  {
   "cell_type": "code",
   "execution_count": null,
   "id": "e07cbd9f",
   "metadata": {},
   "outputs": [],
   "source": [
    "# Your turn\n"
   ]
  },
  {
   "cell_type": "markdown",
   "id": "a5a95f85",
   "metadata": {},
   "source": [
    "<details>\n",
    "<summary><b>Solution</b></summary>\n",
    "\n",
    "```python\n",
    "score=87\n",
    "if score>=85: g=\"A\"\n",
    "elif score>=75: g=\"B\"\n",
    "elif score>=65: g=\"C\"\n",
    "elif score>=50: g=\"D\"\n",
    "else: g=\"F\"\n",
    "print(g)\n",
    "```\n",
    "</details>"
   ]
  },
  {
   "cell_type": "markdown",
   "id": "f19e3bb5",
   "metadata": {},
   "source": [
    "### Exercise E3 — Complex condition (hard)\n",
    "Given `age`, `has_id`, `with_parent`, determine if entry allowed."
   ]
  },
  {
   "cell_type": "code",
   "execution_count": null,
   "id": "e4b0860c",
   "metadata": {},
   "outputs": [],
   "source": [
    "# Your turn\n"
   ]
  },
  {
   "cell_type": "markdown",
   "id": "5d4cd759",
   "metadata": {},
   "source": [
    "<details>\n",
    "<summary><b>Solution</b></summary>\n",
    "\n",
    "```python\n",
    "age=16; has_id=False; with_parent=True\n",
    "allowed = (age>=18 and has_id) or (with_parent and age>=15)\n",
    "print(allowed)\n",
    "```\n",
    "</details>"
   ]
  }
 ],
 "metadata": {
  "kernelspec": {
   "display_name": "Python 3 (ipykernel)",
   "language": "python",
   "name": "python3"
  },
  "language_info": {
   "codemirror_mode": {
    "name": "ipython",
    "version": 3
   },
   "file_extension": ".py",
   "mimetype": "text/x-python",
   "name": "python",
   "nbconvert_exporter": "python",
   "pygments_lexer": "ipython3",
   "version": "3.13.1"
  },
  "toc": {
   "base_numbering": 1,
   "nav_menu": {},
   "number_sections": false,
   "sideBar": true,
   "skip_h1_title": false,
   "title_cell": "Table of Contents",
   "title_sidebar": "Contents",
   "toc_cell": false,
   "toc_position": {},
   "toc_section_display": true,
   "toc_window_display": true
  }
 },
 "nbformat": 4,
 "nbformat_minor": 5
}
