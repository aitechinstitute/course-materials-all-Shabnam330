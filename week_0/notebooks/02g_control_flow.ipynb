{
 "cells": [
  {
   "cell_type": "markdown",
   "id": "b8107709",
   "metadata": {},
   "source": [
    "# Week 00 Deep Dive — Control Flow"
   ]
  },
  {
   "cell_type": "markdown",
   "id": "b98fa1f4",
   "metadata": {},
   "source": [
    "If/elif/else, for/while, range — robust patterns."
   ]
  },
  {
   "cell_type": "markdown",
   "id": "978bd5ff",
   "metadata": {},
   "source": [
    "## 1. For + range"
   ]
  },
  {
   "cell_type": "code",
   "execution_count": null,
   "id": "35641107",
   "metadata": {},
   "outputs": [],
   "source": [
    "for i in range(1,6): print(i, \"🎯\")"
   ]
  },
  {
   "cell_type": "markdown",
   "id": "383c6399",
   "metadata": {},
   "source": [
    "### Exercise G1 — FizzBuzz+ (easy→medium)\n",
    "Extend to include multiples of 7 → 'AI'."
   ]
  },
  {
   "cell_type": "code",
   "execution_count": null,
   "id": "3d902f58",
   "metadata": {},
   "outputs": [],
   "source": [
    "# Your turn\n"
   ]
  },
  {
   "cell_type": "markdown",
   "id": "a2cf583c",
   "metadata": {},
   "source": [
    "<details>\n",
    "<summary><b>Solution</b></summary>\n",
    "\n",
    "```python\n",
    "for n in range(1,31):\n",
    "    out=\"\"\n",
    "    if n%3==0: out+=\"Fizz\"\n",
    "    if n%5==0: out+=\"Buzz\"\n",
    "    if n%7==0: out+=\"AI\"\n",
    "    print(out or n)\n",
    "```\n",
    "</details>"
   ]
  },
  {
   "cell_type": "markdown",
   "id": "715ca040",
   "metadata": {},
   "source": [
    "## 2. While & breaks"
   ]
  },
  {
   "cell_type": "code",
   "execution_count": null,
   "id": "c4fe65a4",
   "metadata": {},
   "outputs": [],
   "source": [
    "n=5\n",
    "while n>0:\n",
    "    print(n)\n",
    "    n-=1\n",
    "print(\"Go!\")"
   ]
  },
  {
   "cell_type": "markdown",
   "id": "7dfcf249",
   "metadata": {},
   "source": [
    "### Exercise G2 — Number guessing (medium)\n",
    "Loop until correct, give higher/lower hints, count attempts."
   ]
  },
  {
   "cell_type": "code",
   "execution_count": null,
   "id": "b1d8918d",
   "metadata": {},
   "outputs": [],
   "source": [
    "# Your turn\n"
   ]
  },
  {
   "cell_type": "markdown",
   "id": "e5687c7d",
   "metadata": {},
   "source": [
    "<details>\n",
    "<summary><b>Solution</b></summary>\n",
    "\n",
    "```python\n",
    "secret=7\n",
    "tries=0\n",
    "guess=7\n",
    "while True:\n",
    "    tries+=1\n",
    "    if guess==secret:\n",
    "        print(f\"Correct in {tries}\"); break\n",
    "    print(\"higher\" if guess<secret else \"lower\")\n",
    "```\n",
    "</details>"
   ]
  },
  {
   "cell_type": "markdown",
   "id": "c9f5d2ad",
   "metadata": {},
   "source": [
    "### Exercise G3 — Menu loop (hard)\n",
    "Build a CLI menu: 1) add item, 2) list items, 3) quit."
   ]
  },
  {
   "cell_type": "code",
   "execution_count": null,
   "id": "8d931d0e",
   "metadata": {},
   "outputs": [],
   "source": [
    "# Your turn\n"
   ]
  },
  {
   "cell_type": "markdown",
   "id": "c20531d1",
   "metadata": {},
   "source": [
    "<details>\n",
    "<summary><b>Solution</b></summary>\n",
    "\n",
    "```python\n",
    "items=[]\n",
    "# choice=\"1\"\n",
    "# while choice!=\"3\":\n",
    "#     if choice==\"1\": items.append(\"x\")\n",
    "#     elif choice==\"2\": print(items)\n",
    "#     choice=\"3\"\n",
    "print(items)\n",
    "```\n",
    "</details>"
   ]
  }
 ],
 "metadata": {
  "kernelspec": {
   "display_name": "Python 3 (ipykernel)",
   "language": "python",
   "name": "python3"
  },
  "language_info": {
   "codemirror_mode": {
    "name": "ipython",
    "version": 3
   },
   "file_extension": ".py",
   "mimetype": "text/x-python",
   "name": "python",
   "nbconvert_exporter": "python",
   "pygments_lexer": "ipython3",
   "version": "3.13.1"
  },
  "toc": {
   "base_numbering": 1,
   "nav_menu": {},
   "number_sections": false,
   "sideBar": true,
   "skip_h1_title": false,
   "title_cell": "Table of Contents",
   "title_sidebar": "Contents",
   "toc_cell": false,
   "toc_position": {},
   "toc_section_display": true,
   "toc_window_display": true
  }
 },
 "nbformat": 4,
 "nbformat_minor": 5
}
